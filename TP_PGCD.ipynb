{
 "cells": [
  {
   "cell_type": "markdown",
   "metadata": {},
   "source": [
    "# Deux TP pour les Experts!"
   ]
  },
  {
   "cell_type": "markdown",
   "metadata": {},
   "source": [
    "### TP 1 : (TP2 p 146 du manuel)\n",
    "\n",
    "Les programmes sont annoté pour vous permettre de mieux les comprendre. Pour les faire fonctionner, il suffit d'appuyer sur shift + entrée."
   ]
  },
  {
   "cell_type": "markdown",
   "metadata": {},
   "source": [
    "1. Vous testerez et modifierez le programme proposé ici mais  vous répondrez aux questions sur une feuille. (Les questions sont celles du manuel.)"
   ]
  },
  {
   "cell_type": "code",
   "execution_count": null,
   "metadata": {},
   "outputs": [],
   "source": [
    "alphabet = \"ABCDEFGHIJKLMNOPQRSTUVWXYZ\"\n",
    "def frequence(texte):         # On définit une FONCTION avec le terme \"def\"\n",
    "    f=0\n",
    "    lettre_freq=''            # Attention! ce n'est pas anodin, lettre_freq ne contient pas rien mais un CARACTERE vide\n",
    "    L=[]                      # De la même façon, L contient une LISTE vide\n",
    "    for lettre in alphabet:   # il suffit de se traduire la ligne en français \"pour chaque lettre de l'alphabet\"\n",
    "        L=[lettre for i in range(len(texte)) if texte[i]==lettre]\n",
    "        # cette ligne est assez technique, elle contient la \"lettre\" autant de fois qu'elle est dans le texte\n",
    "        if len(L)>f: # donc si cette liste est plus grande, la \"lettre\" est plus fréquente\n",
    "            f=len(L)\n",
    "            lettre_freq=lettre\n",
    "    return lettre_freq,f            "
   ]
  },
  {
   "cell_type": "code",
   "execution_count": null,
   "metadata": {},
   "outputs": [],
   "source": []
  },
  {
   "cell_type": "markdown",
   "metadata": {},
   "source": [
    "a. Expliquez la ligne 7 du programme. (si vous pouvez détailler plus que le commentaire)\n",
    "\n",
    "b. Modifier ce programme de sorte qu'il renvoie les deux lettres les plus fréquentes d'un texte ainsi que leur nombre d'apparition dans le texte."
   ]
  },
  {
   "cell_type": "markdown",
   "metadata": {},
   "source": [
    "La suite du TP est celle de votre livre."
   ]
  },
  {
   "cell_type": "markdown",
   "metadata": {},
   "source": [
    "### TP2 (TP3 p 147 du manuel)"
   ]
  },
  {
   "cell_type": "code",
   "execution_count": null,
   "metadata": {},
   "outputs": [],
   "source": [
    "def rang(mot):\n",
    "    L=[]                          # on crée une LISTE vide \n",
    "    for lettre in mot:            # pour chaque lettre du mot\n",
    "        L.append(ord(lettre)-65)  # on ajoute le numéro de la lettre à la fin de L \n",
    "       #L.append = \"ajouter à la fin de L\"\n",
    "    return L\n",
    "\n",
    "def codage(message): #à vous de réfléchir!\n",
    "    clef=rang(\"ROUGE\")\n",
    "    texte=rang(message)\n",
    "    chiffre=\"\"\n",
    "    n=len(texte)//len(clef)+1\n",
    "    clef=n*clef\n",
    "    for i in range(0,len(texte)):\n",
    "        chiffre=chiffre+chr(...)\n",
    "    return chiffre"
   ]
  }
 ],
 "metadata": {
  "kernelspec": {
   "display_name": "Python 3",
   "language": "python",
   "name": "python3"
  },
  "language_info": {
   "codemirror_mode": {
    "name": "ipython",
    "version": 3
   },
   "file_extension": ".py",
   "mimetype": "text/x-python",
   "name": "python",
   "nbconvert_exporter": "python",
   "pygments_lexer": "ipython3",
   "version": "3.7.4"
  }
 },
 "nbformat": 4,
 "nbformat_minor": 2
}
